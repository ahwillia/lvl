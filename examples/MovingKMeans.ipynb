{
 "cells": [
  {
   "cell_type": "code",
   "execution_count": null,
   "metadata": {},
   "outputs": [],
   "source": [
    "import numpy as np\n",
    "import numpy.random as npr\n",
    "import matplotlib.pyplot as plt\n",
    "%matplotlib inline"
   ]
  },
  {
   "cell_type": "code",
   "execution_count": null,
   "metadata": {},
   "outputs": [],
   "source": [
    "m, n, n_clusters = 1000, 100, 2\n",
    "\n",
    "true_centroids0 = np.random.randn(n_clusters, n)\n",
    "true_centroids1 = true_centroids0 + (0.8 * np.random.randn(n_clusters, n))\n",
    "true_assignments = np.empty(m).astype('int')\n",
    "\n",
    "data = np.empty((m, n))\n",
    "for t, alpha in enumerate(np.linspace(0, 1, m)):\n",
    "    c = np.random.choice(n_clusters)\n",
    "    true_assignments[t] = c\n",
    "    tc0 = alpha * true_centroids0[c]\n",
    "    data[t] = (\n",
    "        alpha * true_centroids0[c] + \n",
    "        (1 - alpha) * true_centroids1[c]\n",
    "    )\n",
    "\n",
    "data += 0.1 * np.random.randn(m, n)\n",
    "\n",
    "plt.imshow(data, aspect='auto', interpolation='none')"
   ]
  },
  {
   "cell_type": "code",
   "execution_count": null,
   "metadata": {},
   "outputs": [],
   "source": [
    "from lvl.factor_models import NonstationarySoftKMeans\n",
    "model = NonstationarySoftKMeans(n_components=2, smoothness=1.0, temperature=1.0)\n",
    "model.fit(data)"
   ]
  },
  {
   "cell_type": "code",
   "execution_count": null,
   "metadata": {},
   "outputs": [],
   "source": [
    "plt.imshow(model.predict(), aspect='auto', interpolation='none')"
   ]
  },
  {
   "cell_type": "code",
   "execution_count": null,
   "metadata": {},
   "outputs": [],
   "source": [
    "from sklearn.decomposition import PCA\n",
    "pca = PCA(n_components=2)\n",
    "pcent = pca.fit_transform(\n",
    "    np.row_stack((true_centroids0, true_centroids1)))\n",
    "\n",
    "colors = (\"blue\", \"red\")\n",
    "for c, (x0, y0) in zip(colors, pcent[:n_clusters]):\n",
    "    plt.plot(x0, y0, 'o', color=c, mfc='w')\n",
    "\n",
    "for c, (x0, y0) in zip(colors, pcent[n_clusters:]):\n",
    "    plt.plot(x0, y0, 'o', color=c)\n",
    "\n",
    "Z = pca.transform(\n",
    "    model._factors[1].reshape((-1, n))).reshape((m, n_clusters, 2))\n",
    "Z = pca.transform(model.predict())\n",
    "plt.plot(\n",
    "    Z[true_assignments == 0][:, 0],\n",
    "    Z[true_assignments == 0][:, 1], color=colors[0]\n",
    ")\n",
    "plt.plot(\n",
    "    Z[true_assignments == 1][:, 0],\n",
    "    Z[true_assignments == 1][:, 1], color=colors[1]\n",
    ")\n",
    "\n",
    "# Z = pca.transform(data)\n",
    "# plt.plot(\n",
    "#     Z[true_assignments == 0][:, 0],\n",
    "#     Z[true_assignments == 0][:, 1], color='k'\n",
    "# )\n",
    "\n",
    "# plt.plot(\n",
    "#     Z[true_assignments == 1][:, 0],\n",
    "#     Z[true_assignments == 1][:, 1], color='k'\n",
    "# )\n",
    "\n",
    "plt.legend((\n",
    "    \"clus 1, t=0\",\n",
    "    \"clus 2, t=0\",\n",
    "    \"clus 1, t=-1\",\n",
    "    \"clus 2, t=-1\",\n",
    "), bbox_to_anchor=(1, 1))"
   ]
  },
  {
   "cell_type": "code",
   "execution_count": null,
   "metadata": {},
   "outputs": [],
   "source": [
    "plt.plot(np.cumsum(PCA().fit(data).explained_variance_ratio_), '.-')\n",
    "plt.xlim(-1, 10)"
   ]
  },
  {
   "cell_type": "code",
   "execution_count": null,
   "metadata": {},
   "outputs": [],
   "source": [
    "plt.plot(model.factors[0])\n",
    "plt.xlim(0, 10)"
   ]
  },
  {
   "cell_type": "code",
   "execution_count": null,
   "metadata": {},
   "outputs": [],
   "source": []
  }
 ],
 "metadata": {
  "@webio": {
   "lastCommId": null,
   "lastKernelId": null
  },
  "kernelspec": {
   "display_name": "Python 3",
   "language": "python",
   "name": "python3"
  },
  "language_info": {
   "codemirror_mode": {
    "name": "ipython",
    "version": 3
   },
   "file_extension": ".py",
   "mimetype": "text/x-python",
   "name": "python",
   "nbconvert_exporter": "python",
   "pygments_lexer": "ipython3",
   "version": "3.7.1"
  }
 },
 "nbformat": 4,
 "nbformat_minor": 2
}
