{
 "cells": [
  {
   "cell_type": "code",
   "execution_count": 1,
   "metadata": {},
   "outputs": [],
   "source": [
    "import numpy as np\n",
    "import matplotlib.pyplot as plt\n",
    "from lvl.glm.pass_glm import pass_poiss_reg"
   ]
  },
  {
   "cell_type": "code",
   "execution_count": 2,
   "metadata": {},
   "outputs": [
    {
     "name": "stdout",
     "output_type": "stream",
     "text": [
      "CPU times: user 97.7 ms, sys: 12.6 ms, total: 110 ms\n",
      "Wall time: 53.7 ms\n"
     ]
    },
    {
     "data": {
      "image/png": "[encoded data removed]",
      "text/plain": [
       "<Figure size 432x288 with 1 Axes>"
      ]
     },
     "metadata": {
      "needs_background": "light"
     },
     "output_type": "display_data"
    }
   ],
   "source": [
    "%%time\n",
    "rs = np.random.RandomState(1234)\n",
    "\n",
    "n_obs = 10000\n",
    "n_features = 100\n",
    "n_dep_vars = 1\n",
    "\n",
    "X = 0.1 * rs.randn(n_obs, n_features)\n",
    "X[:, -1] = 1.0\n",
    "\n",
    "W_true = 0.1 * rs.randn(n_dep_vars, n_features).ravel()\n",
    "W_true[-1] += 1.0 \n",
    "\n",
    "y = rs.poisson(np.exp(X @ W_true.T)).astype(float)\n",
    "\n",
    "_wx = X @ W_true.T\n",
    "true_loss = (np.exp(_wx).sum() - (_wx * y).sum()) / n_obs\n",
    "\n",
    "plt.hist(y, 10);"
   ]
  },
  {
   "cell_type": "code",
   "execution_count": 9,
   "metadata": {},
   "outputs": [
    {
     "name": "stdout",
     "output_type": "stream",
     "text": [
      "0\n",
      "1\n",
      "2\n",
      "3\n",
      "4\n"
     ]
    }
   ],
   "source": [
    "w, info = pass_poiss_reg(X, y, store_trace=True, max_iter=100)"
   ]
  },
  {
   "cell_type": "code",
   "execution_count": 10,
   "metadata": {},
   "outputs": [
    {
     "data": {
      "text/plain": [
       "<matplotlib.lines.Line2D at 0x10312f5ef0>"
      ]
     },
     "execution_count": 10,
     "metadata": {},
     "output_type": "execute_result"
    },
    {
     "data": {
      "image/png": "[encoded data removed]",
      "text/plain": [
       "<Figure size 432x288 with 1 Axes>"
      ]
     },
     "metadata": {
      "needs_background": "light"
     },
     "output_type": "display_data"
    }
   ],
   "source": [
    "plt.plot(info.loss_hist, 'o-')\n",
    "plt.plot(info.approx_hist, 'o-')\n",
    "plt.axhline(true_loss, dashes=[2, 2], color=\"k\")"
   ]
  },
  {
   "cell_type": "code",
   "execution_count": null,
   "metadata": {},
   "outputs": [],
   "source": [
    "Xw = X @ w\n",
    "xx = np.linspace(Xw.min(), Xw.max(), 500)\n",
    "plt.plot(xx, np.exp(xx))\n",
    "plt.plot(xx, a2 * xx ** 2 + a1 * xx + a0)"
   ]
  },
  {
   "cell_type": "code",
   "execution_count": null,
   "metadata": {},
   "outputs": [],
   "source": [
    "plt.scatter(W_true, w)"
   ]
  },
  {
   "cell_type": "code",
   "execution_count": null,
   "metadata": {},
   "outputs": [],
   "source": []
  }
 ],
 "metadata": {
  "@webio": {
   "lastCommId": null,
   "lastKernelId": null
  },
  "kernelspec": {
   "display_name": "Python 3",
   "language": "python",
   "name": "python3"
  },
  "language_info": {
   "codemirror_mode": {
    "name": "ipython",
    "version": 3
   },
   "file_extension": ".py",
   "mimetype": "text/x-python",
   "name": "python",
   "nbconvert_exporter": "python",
   "pygments_lexer": "ipython3",
   "version": "3.7.1"
  }
 },
 "nbformat": 4,
 "nbformat_minor": 2
}
